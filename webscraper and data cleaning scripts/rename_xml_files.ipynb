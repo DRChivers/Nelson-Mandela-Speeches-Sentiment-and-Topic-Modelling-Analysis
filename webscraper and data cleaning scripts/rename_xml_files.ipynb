{
 "cells": [
  {
   "cell_type": "code",
   "execution_count": 6,
   "metadata": {},
   "outputs": [
    {
     "name": "stdout",
     "output_type": "stream",
     "text": [
      "File renaming complete.\n"
     ]
    }
   ],
   "source": [
    "import os\n",
    "import pandas as pd\n",
    "\n",
    "# Set the path to the folder containing the XML files\n",
    "xml_folder = r\"C:\\Documents\\Renaming XML Files\\output\"\n",
    "\n",
    "# Read the Excel file with the original and new file names\n",
    "filename_df = pd.read_excel(r\"C:\\Documents\\Renaming XML Files\\output (new file name list).xlsx\")\n",
    "\n",
    "# Loop through the rows in the Excel file and rename the files in the output folder\n",
    "for index, row in filename_df.iterrows():\n",
    "    old_filename = os.path.join(xml_folder, row['Original File Name'])\n",
    "    new_filename = os.path.join(xml_folder, row['New File Name'])\n",
    "    os.rename(old_filename, new_filename)\n",
    "\n",
    "print(\"File renaming complete.\")"
   ]
  }
 ],
 "metadata": {
  "kernelspec": {
   "display_name": "Python 3",
   "language": "python",
   "name": "python3"
  },
  "language_info": {
   "codemirror_mode": {
    "name": "ipython",
    "version": 3
   },
   "file_extension": ".py",
   "mimetype": "text/x-python",
   "name": "python",
   "nbconvert_exporter": "python",
   "pygments_lexer": "ipython3",
   "version": "3.9.13"
  },
  "orig_nbformat": 4
 },
 "nbformat": 4,
 "nbformat_minor": 2
}
