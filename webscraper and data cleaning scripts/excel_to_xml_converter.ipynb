{
 "cells": [
  {
   "cell_type": "code",
   "execution_count": 1,
   "metadata": {},
   "outputs": [],
   "source": [
    "import pandas as pd\n",
    "import os\n",
    "import xml.etree.ElementTree as ET\n",
    "from datetime import datetime\n",
    "\n",
    "# Set the path to the Excel file\n",
    "excel_file = r\"C:/Documents/Renaming XML Files/NM Speeches-XML-Cleaning (Merged Transcripts V4).xlsx\"\n",
    "\n",
    "# Load the Excel file into a pandas DataFrame\n",
    "df = pd.read_excel(excel_file)\n",
    "\n",
    "# Create the output folder\n",
    "output_folder = \"new xml\"\n",
    "if not os.path.exists(output_folder):\n",
    "    os.makedirs(output_folder)\n",
    "\n",
    "# Iterate over each row in the DataFrame\n",
    "for index, row in df.iterrows():\n",
    "    # Get the filename and text from the row\n",
    "    filename = row['File']\n",
    "    text = row['p']\n",
    "    date_str = row['File'][:10]  # Get the first 10 characters of the filename as the date\n",
    "    \n",
    "    # Extract the digits from the filename as the term key\n",
    "    term_key = filename.split('_')[-1].split('.')[0]\n",
    "    \n",
    "    try:\n",
    "        # Parse the date string into a datetime object\n",
    "        date = datetime.strptime(date_str, \"%Y-%m-%d\")\n",
    "        formatted_date = date.strftime(\"%d %B %Y\")  # Format the date as \"18 July 1874\"\n",
    "    except ValueError:\n",
    "        print(f\"Skipping row {index + 2} due to invalid date format: {date_str}\")\n",
    "        continue\n",
    "    \n",
    "    # Create the XML structure\n",
    "    root = ET.Element(\"speech\")\n",
    "    date_elem = ET.SubElement(root, \"date\", when=date_str)\n",
    "    date_elem.text = formatted_date\n",
    "    text_elem = ET.SubElement(root, \"text\")\n",
    "    term_elem = ET.SubElement(text_elem, \"term\", key=term_key)\n",
    "    body_elem = ET.SubElement(text_elem, \"body\")\n",
    "    body_elem.text = text\n",
    "    \n",
    "    # Write the XML file to disk\n",
    "    xml_file = os.path.join(output_folder, filename.replace('.txt', '.xml'))\n",
    "    tree = ET.ElementTree(root)\n",
    "    tree.write(xml_file, encoding='utf-8', xml_declaration=True)"
   ]
  }
 ],
 "metadata": {
  "kernelspec": {
   "display_name": "Python 3",
   "language": "python",
   "name": "python3"
  },
  "language_info": {
   "codemirror_mode": {
    "name": "ipython",
    "version": 3
   },
   "file_extension": ".py",
   "mimetype": "text/x-python",
   "name": "python",
   "nbconvert_exporter": "python",
   "pygments_lexer": "ipython3",
   "version": "3.11.3"
  },
  "orig_nbformat": 4
 },
 "nbformat": 4,
 "nbformat_minor": 2
}
