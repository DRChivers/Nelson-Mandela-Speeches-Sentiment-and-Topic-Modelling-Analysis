{
 "cells": [
  {
   "cell_type": "code",
   "execution_count": 1,
   "metadata": {},
   "outputs": [],
   "source": [
    "import pandas as pd\n",
    "\n",
    "# Load the Excel file into a DataFrame\n",
    "df = pd.read_excel(r\"C:\\Documents\\Renaming XML Files\\NM Speeches-XML-Cleaning.xlsx\")\n",
    "\n",
    "# Group the rows by the \"File\" column and concatenate the \"p\" column values\n",
    "merged_df = df.groupby(\"File\")[\"p\"].apply(lambda x: \"\\n\".join(x)).reset_index()\n",
    "\n",
    "# Write the merged DataFrame to a new Excel file\n",
    "merged_df.to_excel(r\"C:\\Documents\\Renaming XML Files\\Merged_Text.xlsx\", index=False)\n"
   ]
  }
 ],
 "metadata": {
  "kernelspec": {
   "display_name": "base",
   "language": "python",
   "name": "python3"
  },
  "language_info": {
   "codemirror_mode": {
    "name": "ipython",
    "version": 3
   },
   "file_extension": ".py",
   "mimetype": "text/x-python",
   "name": "python",
   "nbconvert_exporter": "python",
   "pygments_lexer": "ipython3",
   "version": "3.9.13"
  },
  "orig_nbformat": 4
 },
 "nbformat": 4,
 "nbformat_minor": 2
}
